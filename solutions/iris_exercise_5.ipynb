{
    "worksheets": [
        {
            "cells": [
                {
                    "language": "python",
                    "input": [
                        "import iris.analysis.cartography\n",
                        "cube.coord('grid_latitude').guess_bounds()\n",
                        "cube.coord('grid_longitude').guess_bounds()\n",
                        "grid_areas = iris.analysis.cartography.area_weights(cube)\n",
                        "\n",
                        "area_avg = cube.collapsed(['grid_longitude', 'grid_latitude'], iris.analysis.MEAN, weights=grid_areas)"
                    ],
                    "collapsed": false,
                    "metadata": {},
                    "cell_type": "code",
                    "outputs": []
                },
                {
                    "cell_type": "markdown",
                    "source": [
                        "**Exercise 5:** What other aggregators are available? Calculate the potential temperature variance with time for the area averaged cube (hint: We want to reduce the vertical dimension, and end up with a cube of length 3). Print the data values of the resulting cube."
                    ],
                    "metadata": {}
                },
                {
                    "language": "python",
                    "input": [],
                    "collapsed": false,
                    "metadata": {},
                    "cell_type": "code",
                    "outputs": []
                }
            ],
            "metadata": {}
        }
    ],
    "nbformat": 3,
    "nbformat_minor": 0,
    "metadata": {
        "name": ""
    }
}