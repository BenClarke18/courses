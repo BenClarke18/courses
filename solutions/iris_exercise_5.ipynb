{
    "worksheets": [
        {
            "metadata": {},
            "cells": [
                {
                    "collapsed": false,
                    "outputs": [],
                    "cell_type": "code",
                    "input": [
                        "import iris.analysis.cartography\n",
                        "cube.coord('grid_latitude').guess_bounds()\n",
                        "cube.coord('grid_longitude').guess_bounds()\n",
                        "grid_areas = iris.analysis.cartography.area_weights(cube)\n",
                        "\n",
                        "area_avg = cube.collapsed(['grid_longitude', 'grid_latitude'], iris.analysis.MEAN, weights=grid_areas)"
                    ],
                    "language": "python",
                    "metadata": {}
                },
                {
                    "metadata": {},
                    "source": [
                        "**Exercise 5:** What other aggregators are available? Calculate the potential temperature variance with time for the area averaged cube (hint: We want to reduce the vertical dimension, and end up with a cube of length 3). Print the data values of the resulting cube."
                    ],
                    "cell_type": "markdown"
                },
                {
                    "collapsed": false,
                    "outputs": [],
                    "cell_type": "code",
                    "input": [],
                    "language": "python",
                    "metadata": {}
                }
            ]
        }
    ],
    "metadata": {
        "name": ""
    },
    "nbformat": 3,
    "nbformat_minor": 0
}