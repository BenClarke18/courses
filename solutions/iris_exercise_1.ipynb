{
    "metadata": {
        "name": ""
    },
    "nbformat_minor": 0,
    "worksheets": [
        {
            "metadata": {},
            "cells": [
                {
                    "metadata": {},
                    "source": [
                        "## Exercise 1:\n",
                        "\n",
                        "1\\. Using the file in ``iris.sample_data_path('atlantic_profiles.nc')`` load the data and print the cube list. Store these cubes in a variable called cubes.\n",
                        "\n",
                        "2\\. Print a sorted list of unique names for the cubes.\n",
                        "\n",
                        "3\\. Extract the \"sea_water_potential_temperature\" cube. Print the minimum, maximum, mean and standard deviation of the cube's data.\n",
                        "\n",
                        "4\\. Print the attributes of the cube.\n",
                        "\n",
                        "5\\. Print the names of all coordinates on the cube. (Hint: Remember the cube.coords method)\n",
                        "\n",
                        "6\\. Get hold of the \"latitude\" coordinate on the cube. Identify whether the cube has bounds. Print the minimum and maximum latitude points in this cube."
                    ],
                    "cell_type": "markdown"
                },
                {
                    "input": [],
                    "language": "python",
                    "outputs": [],
                    "prompt_number": 2,
                    "collapsed": false,
                    "metadata": {},
                    "cell_type": "code"
                }
            ]
        }
    ],
    "nbformat": 3
}