{
    "nbformat": 3,
    "metadata": {
        "name": "",
        "signature": "sha256:848ef38126532012d51f85fda6138dfe097a4c6c37850c846063ebee9d3928bb"
    },
    "worksheets": [
        {
            "cells": [
                {
                    "cell_type": "markdown",
                    "metadata": {},
                    "source": [
                        "## Exercise 1\n",
                        "\n",
                        "Use ``np.arange`` and ``reshape`` to create the array\n",
                        "\n",
                        "    A = [[1 2 3 4]\n",
                        "         [5 6 7 8]]"
                    ]
                },
                {
                    "prompt_number": 1,
                    "input": [
                        "import numpy as np\n",
                        "A = np.arange(1, 9).reshape(2, -1)\n",
                        "print A"
                    ],
                    "outputs": [
                        {
                            "output_type": "stream",
                            "stream": "stdout",
                            "text": [
                                "[[1 2 3 4]\n",
                                " [5 6 7 8]]\n"
                            ]
                        }
                    ],
                    "cell_type": "code",
                    "language": "python",
                    "metadata": {},
                    "collapsed": false
                },
                {
                    "cell_type": "markdown",
                    "metadata": {},
                    "source": [
                        "\n",
                        "Use ``np.array`` to create the array\n",
                        "\n",
                        "    B = [1 2]"
                    ]
                },
                {
                    "prompt_number": 2,
                    "input": [
                        "B = np.array([1, 2])\n",
                        "print B"
                    ],
                    "outputs": [
                        {
                            "output_type": "stream",
                            "stream": "stdout",
                            "text": [
                                "[1 2]\n"
                            ]
                        }
                    ],
                    "cell_type": "code",
                    "language": "python",
                    "metadata": {},
                    "collapsed": false
                },
                {
                    "cell_type": "markdown",
                    "metadata": {},
                    "source": [
                        "Use broadcasting to add ``B`` to ``A`` to create the final array\n",
                        "\n",
                        "    A + B = [[2  3  4  5]\n",
                        "             [7  8  9 10]\n",
                        "\n",
                        "Hint: what shape does ``B`` have to be changed to?"
                    ]
                },
                {
                    "prompt_number": 3,
                    "input": [
                        "print A + B.reshape(2, 1)"
                    ],
                    "outputs": [
                        {
                            "output_type": "stream",
                            "stream": "stdout",
                            "text": [
                                "[[ 2  3  4  5]\n",
                                " [ 7  8  9 10]]\n"
                            ]
                        }
                    ],
                    "cell_type": "code",
                    "language": "python",
                    "metadata": {},
                    "collapsed": false
                }
            ],
            "metadata": {}
        }
    ],
    "nbformat_minor": 0
}