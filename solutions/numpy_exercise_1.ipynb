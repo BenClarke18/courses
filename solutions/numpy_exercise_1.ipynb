{
    "nbformat": 3,
    "worksheets": [
        {
            "cells": [
                {
                    "cell_type": "markdown",
                    "source": [
                        "## Exercise 1\n",
                        "\n",
                        "Use ``np.arange`` and ``reshape`` to create the array\n",
                        "\n",
                        "    A = [[1 2 3 4]\n",
                        "         [5 6 7 8]]"
                    ],
                    "metadata": {}
                },
                {
                    "input": [
                        "import numpy as np\n",
                        "A = np.arange(1, 9).reshape(2, -1)\n",
                        "print A"
                    ],
                    "metadata": {},
                    "prompt_number": 1,
                    "cell_type": "code",
                    "collapsed": false,
                    "language": "python",
                    "outputs": [
                        {
                            "stream": "stdout",
                            "output_type": "stream",
                            "text": [
                                "[[1 2 3 4]\n",
                                " [5 6 7 8]]\n"
                            ]
                        }
                    ]
                },
                {
                    "cell_type": "markdown",
                    "source": [
                        "\n",
                        "Use ``np.array`` to create the array\n",
                        "\n",
                        "    B = [1 2]"
                    ],
                    "metadata": {}
                },
                {
                    "input": [
                        "B = np.array([1, 2])\n",
                        "print B"
                    ],
                    "metadata": {},
                    "prompt_number": 2,
                    "cell_type": "code",
                    "collapsed": false,
                    "language": "python",
                    "outputs": [
                        {
                            "stream": "stdout",
                            "output_type": "stream",
                            "text": [
                                "[1 2]\n"
                            ]
                        }
                    ]
                },
                {
                    "cell_type": "markdown",
                    "source": [
                        "Use broadcasting to add ``B`` to ``A`` to create the final array\n",
                        "\n",
                        "    A + B = [[2  3  4  5]\n",
                        "             [7  8  9 10]\n",
                        "\n",
                        "Hint: what shape does ``B`` have to be changed to?"
                    ],
                    "metadata": {}
                },
                {
                    "input": [
                        "print A + B.reshape(2, 1)"
                    ],
                    "metadata": {},
                    "prompt_number": 3,
                    "cell_type": "code",
                    "collapsed": false,
                    "language": "python",
                    "outputs": [
                        {
                            "stream": "stdout",
                            "output_type": "stream",
                            "text": [
                                "[[ 2  3  4  5]\n",
                                " [ 7  8  9 10]]\n"
                            ]
                        }
                    ]
                }
            ],
            "metadata": {}
        }
    ],
    "metadata": {
        "signature": "sha256:848ef38126532012d51f85fda6138dfe097a4c6c37850c846063ebee9d3928bb",
        "name": ""
    },
    "nbformat_minor": 0
}