{
    "nbformat_minor": 0,
    "nbformat": 3,
    "worksheets": [
        {
            "cells": [
                {
                    "cell_type": "markdown",
                    "source": [
                        "## Exercise 1\n",
                        "\n",
                        "Use ``np.arange`` and ``reshape`` to create the array\n",
                        "\n",
                        "    A = [[1 2 3 4]\n",
                        "         [5 6 7 8]]"
                    ],
                    "metadata": {}
                },
                {
                    "language": "python",
                    "collapsed": false,
                    "metadata": {},
                    "cell_type": "code",
                    "outputs": [
                        {
                            "output_type": "stream",
                            "stream": "stdout",
                            "text": [
                                "[[1 2 3 4]\n",
                                " [5 6 7 8]]\n"
                            ]
                        }
                    ],
                    "prompt_number": 1,
                    "input": [
                        "import numpy as np\n",
                        "A = np.arange(1, 9).reshape(2, -1)\n",
                        "print A"
                    ]
                },
                {
                    "cell_type": "markdown",
                    "source": [
                        "\n",
                        "Use ``np.array`` to create the array\n",
                        "\n",
                        "    B = [1 2]"
                    ],
                    "metadata": {}
                },
                {
                    "language": "python",
                    "collapsed": false,
                    "metadata": {},
                    "cell_type": "code",
                    "outputs": [
                        {
                            "output_type": "stream",
                            "stream": "stdout",
                            "text": [
                                "[1 2]\n"
                            ]
                        }
                    ],
                    "prompt_number": 2,
                    "input": [
                        "B = np.array([1, 2])\n",
                        "print B"
                    ]
                },
                {
                    "cell_type": "markdown",
                    "source": [
                        "Use broadcasting to add ``B`` to ``A`` to create the final array\n",
                        "\n",
                        "    A + B = [[2  3  4  5]\n",
                        "             [7  8  9 10]\n",
                        "\n",
                        "Hint: what shape does ``B`` have to be changed to?"
                    ],
                    "metadata": {}
                },
                {
                    "language": "python",
                    "collapsed": false,
                    "metadata": {},
                    "cell_type": "code",
                    "outputs": [
                        {
                            "output_type": "stream",
                            "stream": "stdout",
                            "text": [
                                "[[ 2  3  4  5]\n",
                                " [ 7  8  9 10]]\n"
                            ]
                        }
                    ],
                    "prompt_number": 3,
                    "input": [
                        "print A + B.reshape(2, 1)"
                    ]
                }
            ],
            "metadata": {}
        }
    ],
    "metadata": {
        "signature": "sha256:848ef38126532012d51f85fda6138dfe097a4c6c37850c846063ebee9d3928bb",
        "name": ""
    }
}