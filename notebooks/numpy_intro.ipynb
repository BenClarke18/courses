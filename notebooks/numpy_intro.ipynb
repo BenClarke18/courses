{
    "nbformat_minor": 0,
    "worksheets": [
        {
            "cells": [
                {
                    "cell_type": "markdown",
                    "metadata": {
                        "internals": {
                            "slide_type": "subslide"
                        },
                        "slideshow": {
                            "slide_type": "slide"
                        }
                    },
                    "source": [
                        "# An Introduction to NumPy\n",
                        "\n",
                        "Blurb here..."
                    ]
                },
                {
                    "cell_type": "markdown",
                    "metadata": {},
                    "source": [
                        "## Course Objectives\n",
                        "\n",
                        "1. blah\n",
                        "2. blab"
                    ]
                },
                {
                    "cell_type": "markdown",
                    "metadata": {
                        "internals": {},
                        "slideshow": {
                            "slide_type": "-"
                        }
                    },
                    "source": [
                        "## Table of Contents"
                    ]
                },
                {
                    "language": "python",
                    "input": [
                        "import numpy as np"
                    ],
                    "cell_type": "code",
                    "metadata": {},
                    "outputs": [],
                    "collapsed": false
                },
                {
                    "cell_type": "markdown",
                    "metadata": {},
                    "source": [
                        "Documentation link here!"
                    ]
                },
                {
                    "cell_type": "markdown",
                    "metadata": {
                        "internals": {},
                        "slideshow": {
                            "slide_type": "-"
                        }
                    },
                    "source": [
                        "## The NumPy Array"
                    ]
                },
                {
                    "cell_type": "markdown",
                    "metadata": {
                        "internals": {},
                        "slideshow": {
                            "slide_type": "-"
                        }
                    },
                    "source": [
                        "## Motivation: what are arrays good for?"
                    ]
                },
                {
                    "cell_type": "markdown",
                    "metadata": {},
                    "source": [
                        "### Calculation with Broadcasting"
                    ]
                },
                {
                    "cell_type": "markdown",
                    "metadata": {},
                    "source": [
                        "### Fast Calculations"
                    ]
                },
                {
                    "cell_type": "markdown",
                    "metadata": {},
                    "source": [
                        "### Clear Syntax"
                    ]
                },
                {
                    "cell_type": "markdown",
                    "metadata": {
                        "internals": {},
                        "slideshow": {
                            "slide_type": "-"
                        }
                    },
                    "source": [
                        "## The Array Object"
                    ]
                },
                {
                    "cell_type": "markdown",
                    "metadata": {},
                    "source": [
                        "### Array properties\n",
                        "\n",
                        "Let's create a NumPy array and take a look at some of its properties."
                    ]
                },
                {
                    "language": "python",
                    "input": [
                        "arr = np.ones((3, 2, 4))\n",
                        "\n",
                        "print(\"Array shape:\", arr.shape)\n",
                        "print(\"Array element dtype:\", arr.dtype)"
                    ],
                    "cell_type": "code",
                    "metadata": {},
                    "outputs": [],
                    "collapsed": false
                },
                {
                    "cell_type": "markdown",
                    "metadata": {},
                    "source": [
                        "See if you can also find out the array's:\n",
                        "\n",
                        "* number of dimensions,\n",
                        "* number of elements, and\n",
                        "* amount of memory used.\n",
                        "\n",
                        "Hint: you can use `help(object)` to look up the documentation on any object."
                    ]
                },
                {
                    "language": "python",
                    "input": [],
                    "cell_type": "code",
                    "metadata": {},
                    "outputs": [],
                    "collapsed": false
                },
                {
                    "cell_type": "markdown",
                    "metadata": {},
                    "source": [
                        "Make some more arrays. Some different ways to create arrays can be found at https://docs.scipy.org/doc/numpy/user/basics.creation.html. What are the properties of your arrays?"
                    ]
                },
                {
                    "language": "python",
                    "input": [],
                    "cell_type": "code",
                    "metadata": {},
                    "outputs": [],
                    "collapsed": false
                },
                {
                    "cell_type": "markdown",
                    "metadata": {},
                    "source": [
                        "What else can you find out about these arrays?"
                    ]
                },
                {
                    "language": "python",
                    "input": [],
                    "cell_type": "code",
                    "metadata": {},
                    "outputs": [],
                    "collapsed": false
                },
                {
                    "cell_type": "markdown",
                    "metadata": {},
                    "source": [
                        "### Indexing\n",
                        "\n",
                        "You can index NumPy arrays in the same way as any other Python iterables, by using square brackets `[]`. This means we can index to retrieve a single element, multiple consecutive elements, or a more complex sequence:"
                    ]
                },
                {
                    "language": "python",
                    "input": [
                        "arr = np.array([1, 2, 3, 4, 5, 6])\n",
                        "print \"arr --\", arr\n",
                        "print \"arr[2] --\", arr[2]\n",
                        "print \"arr[2:5] --\", arr[2:5]\n",
                        "print \"arr[::2] --\", arr[::2]"
                    ],
                    "cell_type": "code",
                    "metadata": {},
                    "outputs": [],
                    "collapsed": false
                },
                {
                    "cell_type": "markdown",
                    "metadata": {},
                    "source": [
                        "You can also index multidimensional arrays in a logical way using an enhanced indexing syntax. Remember that Python uses zero-based indexing!"
                    ]
                },
                {
                    "language": "python",
                    "input": [
                        "lst_2d = [[1, 2, 3], [4, 5, 6]]\n",
                        "arr_2d = np.array(lst_2d)\n",
                        "\n",
                        "print \"2D list:\"\n",
                        "print lst_2d\n",
                        "print\n",
                        "print \"2D array:\"\n",
                        "print arr_2d\n",
                        "print\n",
                        "print \"Single array element:\"\n",
                        "print arr_2d[1, 2]"
                    ],
                    "cell_type": "code",
                    "metadata": {},
                    "outputs": [],
                    "collapsed": false
                },
                {
                    "cell_type": "markdown",
                    "metadata": {},
                    "source": [
                        "#### Exercise #//n/\n",
                        "\n",
                        "##### Part 1\n",
                        "\n",
                        "Why do these indexing examples give the stated results?\n",
                        "\n",
                        " * result of `arr_2d[1, 0]` is `4`\n",
                        " * result of `arr_2d[0]` is `[1, 2, 3]`\n",
                        " * result of `arr_2d[1, 1:]` is `[5, 6]`\n",
                        " * result of `arr_2d[0, ::2]` is `[[1, 3], [4, 6]]`"
                    ]
                },
                {
                    "language": "python",
                    "input": [],
                    "cell_type": "code",
                    "metadata": {},
                    "outputs": [],
                    "collapsed": false
                },
                {
                    "cell_type": "markdown",
                    "metadata": {},
                    "source": [
                        "##### Part 2\n",
                        "\n",
                        "How would you index `arr_2d` to retrieve:\n",
                        "\n",
                        " * the third value (`3`),\n",
                        " * the second row (`[4, 5, 6]`), \n",
                        " * the first column (`[1, 4]`), and\n",
                        " * the first column, retaining the outside dimension (`[[1, 4]]`)?"
                    ]
                },
                {
                    "language": "python",
                    "input": [],
                    "cell_type": "code",
                    "metadata": {},
                    "outputs": [],
                    "collapsed": false
                },
                {
                    "cell_type": "markdown",
                    "metadata": {},
                    "source": [
                        "### Arrays are not lists"
                    ]
                },
                {
                    "cell_type": "markdown",
                    "metadata": {},
                    "source": [
                        "Question: why do the following examples produce different results?"
                    ]
                },
                {
                    "language": "python",
                    "input": [
                        "print lst_2d[0:2][1]\n",
                        "print arr_2d[0:2, 1]"
                    ],
                    "cell_type": "code",
                    "metadata": {},
                    "outputs": [],
                    "collapsed": false
                },
                {
                    "cell_type": "markdown",
                    "metadata": {},
                    "source": [
                        "The result we just received points to an important piece of learning, which is that in most cases NumPy arrays behave very differently to Python lists. Let's explore the differences (and some similarities) between the two."
                    ]
                },
                {
                    "cell_type": "markdown",
                    "metadata": {},
                    "source": [
                        "TODO:\n",
                        " * dtype : homogeneous : promotion"
                    ]
                },
                {
                    "cell_type": "markdown",
                    "metadata": {},
                    "source": [
                        "**Expected duration:** < 20 mins"
                    ]
                },
                {
                    "cell_type": "markdown",
                    "metadata": {},
                    "source": [
                        "#### The Array Object: Summary of key  points\n",
                        " * properties : shape, dtype\n",
                        " * creation : array(list), ones, zeros, arange, linspace\n",
                        " * indexing like Python objects : integers and slices\n",
                        " * indexing produces further array objects\n",
                        " * multi-dimensional indexing with multiple indices\n",
                        " * indexing differences from list-of-lists\n"
                    ]
                },
                {
                    "cell_type": "markdown",
                    "metadata": {},
                    "source": [
                        "## Application: Calculations"
                    ]
                },
                {
                    "cell_type": "markdown",
                    "metadata": {},
                    "source": [
                        "### Elementwise Arithmetic\n",
                        "\n",
                        "You can use NumPy to perform arithmetic operations between two arrays in an element-by-element fashion."
                    ]
                },
                {
                    "language": "python",
                    "input": [
                        "arr1 = np.arange(4)\n",
                        "arr2 = np.arange(4)\n",
                        "\n",
                        "print arr1, '+', arr2, '=', arr1 + arr2"
                    ],
                    "cell_type": "code",
                    "metadata": {},
                    "outputs": [],
                    "collapsed": false
                },
                {
                    "cell_type": "markdown",
                    "metadata": {},
                    "source": [
                        "#### Exercise #//n/\n",
                        "\n",
                        "Define some arrays and compute some results for different operators. Put the operations in different cells and see what works and what doesn't."
                    ]
                },
                {
                    "language": "python",
                    "input": [],
                    "cell_type": "code",
                    "metadata": {},
                    "outputs": [],
                    "collapsed": false
                },
                {
                    "language": "python",
                    "input": [],
                    "cell_type": "code",
                    "metadata": {},
                    "outputs": [],
                    "collapsed": false
                },
                {
                    "language": "python",
                    "input": [],
                    "cell_type": "code",
                    "metadata": {},
                    "outputs": [],
                    "collapsed": false
                },
                {
                    "cell_type": "markdown",
                    "metadata": {},
                    "source": [
                        "It makes intrinsic sense that you should be able to add a constant to all values in an array:"
                    ]
                },
                {
                    "language": "python",
                    "input": [
                        "arr = np.arange(4)\n",
                        "const = 5\n",
                        "\n",
                        "print \"Original array:\", arr\n",
                        "print\n",
                        "print \"Array + const:\", arr + const"
                    ],
                    "cell_type": "code",
                    "metadata": {},
                    "outputs": [],
                    "collapsed": false
                },
                {
                    "cell_type": "markdown",
                    "metadata": {},
                    "source": [
                        "### Broadcasting\n",
                        "\n",
                        "There are times when you need to perform calculations between NumPy arrays of different sizes.\n",
                        "\n",
                        "For example, suppose you have maximum temperatures from each of three recording stations, recorded on two separate days."
                    ]
                },
                {
                    "language": "python",
                    "input": [
                        "daily_records = np.array([[12, 14, 16], [11, 13, 15]])\n",
                        "print\n",
                        "print 'raw data:'\n",
                        "print daily_records"
                    ],
                    "cell_type": "code",
                    "metadata": {},
                    "outputs": [],
                    "collapsed": false
                },
                {
                    "cell_type": "markdown",
                    "metadata": {},
                    "source": [
                        "Each station is known to overstate the maximum recorded temperature by a different known constant value. You wish to subtract the appropriate offset from each station's values.\n",
                        "\n",
                        "You can do that like this:"
                    ]
                },
                {
                    "language": "python",
                    "input": [
                        "offset = np.array([2, 1, 4])\n",
                        "\n",
                        "corrected_records = daily_records - offset\n",
                        "print\n",
                        "print 'corrected values:'\n",
                        "print corrected_records"
                    ],
                    "cell_type": "code",
                    "metadata": {
                        "internals": {
                            "slide_helper": "subslide_end"
                        },
                        "slideshow": {
                            "slide_type": "-"
                        },
                        "slide_helper": "slide_end"
                    },
                    "outputs": [],
                    "collapsed": false
                },
                {
                    "cell_type": "markdown",
                    "metadata": {},
                    "source": [
                        "NumPy allows you to do this easily using a powerful piece of functionality called **broadcasting**."
                    ]
                },
                {
                    "cell_type": "markdown",
                    "metadata": {
                        "internals": {},
                        "slideshow": {
                            "slide_type": "-"
                        }
                    },
                    "source": [
                        "Broadcasting is a way of treating the arrays ***as if*** they had the same dimensions, and thus have elements all corresponding.  It is then easy to perform the calculation, element-wise.  \n",
                        "It does this by matching dimensions in one array to the other where possible, and using repeated values where there is no corresponding dimension in the other array."
                    ]
                },
                {
                    "cell_type": "markdown",
                    "metadata": {},
                    "source": [
                        "#### Rules of Broadcasting"
                    ]
                },
                {
                    "cell_type": "markdown",
                    "metadata": {},
                    "source": [
                        "Broadcasting applies these three rules:\n",
                        "\n",
                        "1.    If the two arrays differ in their number of dimensions, the shape of the array with fewer dimensions is padded with ones on its leading (left) side.\n",
                        "\n",
                        "1.    If the shape of the two arrays does not match in any dimension, either array with shape equal to 1 in a given dimension is stretched to match the other shape.\n",
                        "\n",
                        "1.    If in any dimension the sizes disagree and neither has shape equal to 1, an error is raised.\n",
                        "\n",
                        "Note that all of this happens without ever actually creating the expanded arrays in memory! This broadcasting behavior is in practice enormously powerful, especially given that when NumPy broadcasts to create new dimensions or to 'stretch' existing ones, it doesn't actually duplicate the data. In the example above the operation is carried out as if the scalar 1.5 was a 1D array with 1.5 in all of its entries, but no actual array is ever created. This can save lots of memory in cases when the arrays in question are large. As such this can have significant performance implications."
                    ]
                },
                {
                    "cell_type": "markdown",
                    "metadata": {},
                    "source": [
                        "![Illustration of broadcasting](../images/fig_broadcast_visual_1.png)\n",
                        "\n",
                        "([image source](http://www.astroml.org/book_figures/appendix/fig_broadcast_visual.html))"
                    ]
                },
                {
                    "cell_type": "markdown",
                    "metadata": {},
                    "source": [
                        "#### Exercise #//n/\n",
                        " 1. Run some extra exercises\n",
                        " 1. Allow a space for play with delegates' own examples - and hopefully they will hit a problem that needs to be broadcast."
                    ]
                },
                {
                    "language": "python",
                    "input": [],
                    "cell_type": "code",
                    "metadata": {},
                    "outputs": [],
                    "collapsed": false
                },
                {
                    "language": "python",
                    "input": [],
                    "cell_type": "code",
                    "metadata": {},
                    "outputs": [],
                    "collapsed": false
                },
                {
                    "cell_type": "markdown",
                    "metadata": {},
                    "source": [
                        "#### Reshaping arrays to aid broadcasting\n",
                        "\n",
                        "NumPy allows you to change the shape of an array, so long as the total number of elements in the array does not change.  \n",
                        "For example, we could reshape a flat array with 12 elements to a 2D array with shape `(2, 6)`, or `(3, 2, 2)`, or even `(3, 4, 1)`.  \n",
                        "However, we could not reshape it to have shape `(2, 5)`, because the total number of elements would not be kept constant."
                    ]
                },
                {
                    "cell_type": "markdown",
                    "metadata": {},
                    "source": [
                        "Now suppose you want to apply a correction for each day.\n",
                        "For example, you might try :\n",
                        "\n",
                        "```python\n",
                        "days_adjust = np.array([1.5, 3.7])\n",
                        "adjusted = daily_records - days_adjust\n",
                        "```\n",
                        "but that results in :\n",
                        "```\n",
                        "---------------------------------------------------------------------------\n",
                        "ValueError                                Traceback (most recent call last)\n",
                        "<ipython-input-8-158daf2f21f2> in <module>()\n",
                        "      1 days_adjust = np.array([1.5, 3.7])\n",
                        "----> 2 adjusted = daily_records - days_adjust\n",
                        "      3 print adjusted\n",
                        "\n",
                        "ValueError: operands could not be broadcast together with shapes (2,3) (2,) \n",
                        "```"
                    ]
                },
                {
                    "cell_type": "markdown",
                    "metadata": {},
                    "source": [
                        "Clearly, this doesn't work !"
                    ]
                },
                {
                    "cell_type": "markdown",
                    "metadata": {},
                    "source": [
                        "#### Exercise #//n/\n",
                        "\n",
                        "With reference to the above rules of broadcasting:\n",
                        " 1. describe why the above attempt to subtract `days_adjust` fails\n",
                        " 1. work out how you can modify the 'days_adjust' array to get the desired result.  \n",
                        "    Hint: imagine how the 'days_adjust' values *should* look, when expanded to match the dimensions of 'daily_records'."
                    ]
                },
                {
                    "cell_type": "markdown",
                    "metadata": {},
                    "source": [
                        "#### Exercise #//n+1/\n",
                        "Sometimes an operation will produce a result, but not the one you wanted.\n",
                        "\n",
                        "For example, suppose we have :\n",
                        "```python\n",
                        "A = np.array(\n",
                        "  [[1, 2, 3],\n",
                        "   [4, 5, 6],\n",
                        "   [7, 8, 9]])\n",
                        "```\n",
                        "\n",
                        "and we wish to add 0, 100 and 400 ***to the rows***.\n",
                        "That is,\n",
                        "```python\n",
                        "B = np.array(\n",
                        "  [0, 100, 400])\n",
                        "# and ..\n",
                        "desired_result = np.array(\n",
                        " [[  1,   2,   3],\n",
                        "  [104, 105, 406],\n",
                        "  [407, 407, 409]])\n",
                        "```\n",
                        "**questions:**\n",
                        " 1. what will be the result of simply adding A and B ?\n",
                        " 1. how can you perform the correct calculation on A and B to get\n",
                        "\"desired_result\" ?\n",
                        "\n",
                        "\n"
                    ]
                },
                {
                    "language": "python",
                    "input": [],
                    "cell_type": "code",
                    "metadata": {},
                    "outputs": [],
                    "collapsed": false
                },
                {
                    "language": "python",
                    "input": [],
                    "cell_type": "code",
                    "metadata": {},
                    "outputs": [],
                    "collapsed": false
                },
                {
                    "cell_type": "markdown",
                    "metadata": {},
                    "source": [
                        "Let's return to the daily maximum temperature example. Imagine that one day you receive four days' worth of maximum temperature values for the three sites, but for some reason the data are malformed into one long list of values. Nevertheless, you still need to apply the correct offsets to each site's values.\n",
                        "\n",
                        "You can assume that the ordering of the values is the same as in the earlier example. That is, the order is `[day1-station1, day1-station2, day1-station3, day2-station1, ...]` and so on.\n",
                        "\n",
                        "    four_days = [16, 14, 12, 15, 14, 14, 16, 11, 9, 13, 12, 10]\n",
                        "\n",
                        "##### questions:\n",
                        " 1. Suppose you want to remove the daily offsets, as before: Use broadcasting and reshape to achieve this.\n",
                        " 2. Suppose the values were supplied in a different order, with adjacent days for each station, i.e. `[day1-station1, day2-station1, day3-station1, day1-station2, day2-station2, day3-station2, ...]`.  Write code to handle this data."
                    ]
                },
                {
                    "language": "python",
                    "input": [],
                    "cell_type": "code",
                    "metadata": {},
                    "outputs": [],
                    "collapsed": false
                },
                {
                    "cell_type": "markdown",
                    "metadata": {},
                    "source": [
                        "Now go and play! (How do we structure this?)\n",
                        "\n",
                        "You could review some of your experiments that failed from the earlier \"Elementwise Arithmetic\" section and see if you can now make them work."
                    ]
                },
                {
                    "cell_type": "markdown",
                    "metadata": {},
                    "source": [
                        "#### Broadcasting: Summary of key  points\n",
                        " * operations can be performed between arrays of different shapes\n",
                        " * the arrays' dimensions are aligned according to fixed rules; where one input\n",
                        "lacks a given dimension, values are repeated.\n",
                        " * reshaping can be used to get arrays to combine as required.\n",
                        "\n"
                    ]
                },
                {
                    "language": "python",
                    "input": [],
                    "cell_type": "code",
                    "metadata": {},
                    "outputs": [],
                    "collapsed": false
                }
            ],
            "metadata": {}
        }
    ],
    "metadata": {
        "signature": "sha256:7456e7c2c8a7b1ebb19fa1594cfe01fdd4ca5f6f5c139beae237b068701e97c5",
        "name": ""
    },
    "nbformat": 3
}