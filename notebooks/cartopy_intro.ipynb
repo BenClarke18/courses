{
    "nbformat": 3,
    "nbformat_minor": 0,
    "worksheets": [
        {
            "cells": [
                {
                    "source": [
                        "## Cartopy in a nutshell\n",
                        "\n",
                        "Cartopy is a Python package that provides easy creation of maps, using matplotlib, for the analysis and visualisation of geospatial data."
                    ],
                    "metadata": {},
                    "cell_type": "markdown"
                },
                {
                    "source": [
                        "In order to create a map with cartopy and matplotlib, we typically need to import pyplot from matplotlib and cartopy's crs (coordinate reference system) submodule. These are typically imported as follows:"
                    ],
                    "metadata": {},
                    "cell_type": "markdown"
                },
                {
                    "language": "python",
                    "metadata": {},
                    "input": [
                        "import matplotlib.pyplot as plt\n",
                        "import cartopy.crs as ccrs"
                    ],
                    "collapsed": false,
                    "outputs": [],
                    "cell_type": "code"
                },
                {
                    "source": [
                        "Cartopy's matplotlib interface is set up via the `projection` keyword when constructing a matplotlib `Axes` / `SubAxes` instance. The resulting axes instance has new methods, such as the **``coastlines()``** method, which are specific to drawing cartographic data:"
                    ],
                    "metadata": {},
                    "cell_type": "markdown"
                },
                {
                    "language": "python",
                    "metadata": {},
                    "input": [
                        "ax = plt.axes(projection=ccrs.PlateCarree())\n",
                        "ax.coastlines()\n",
                        "plt.show()"
                    ],
                    "collapsed": false,
                    "outputs": [],
                    "cell_type": "code"
                },
                {
                    "source": [
                        "A full list of Cartopy projections is available at http://scitools.org.uk/cartopy/docs/latest/crs/projections.html."
                    ],
                    "metadata": {},
                    "cell_type": "markdown"
                },
                {
                    "source": [
                        "To draw cartographic data, we use the the standard matplotlib plotting routines with an additional **transform** keyword argument. The value of the **transform** argument should be the cartopy coordinate reference system *of the data being plotted*:"
                    ],
                    "metadata": {},
                    "cell_type": "markdown"
                },
                {
                    "language": "python",
                    "metadata": {},
                    "input": [
                        "ax = plt.axes(projection=ccrs.PlateCarree())\n",
                        "ax.coastlines()\n",
                        "ax.set_global()\n",
                        "plt.plot([-100, 50], [25, 25], linewidth=4, transform=ccrs.Geodetic())\n",
                        "plt.show()"
                    ],
                    "collapsed": false,
                    "outputs": [],
                    "cell_type": "code"
                },
                {
                    "source": [
                        "Notice that unless we specify a map extent (we did so via the **``set_global``** method in this case) the map will zoom into the range of the plotted data."
                    ],
                    "metadata": {},
                    "cell_type": "markdown"
                },
                {
                    "source": [
                        "We can add graticule lines and tick labels to the map using the gridlines method (this currently is limited to just a few coordinate reference systems):"
                    ],
                    "metadata": {},
                    "cell_type": "markdown"
                },
                {
                    "language": "python",
                    "metadata": {},
                    "input": [
                        "ax = plt.axes(projection=ccrs.Mercator())\n",
                        "ax.coastlines()\n",
                        "gl = ax.gridlines(draw_labels=True)\n",
                        "plt.show()"
                    ],
                    "collapsed": false,
                    "outputs": [],
                    "cell_type": "code"
                },
                {
                    "source": [
                        "We can control the specific tick values by using matplotlib's locator object, and the formatting can be controlled with matplotlib formatters:"
                    ],
                    "metadata": {},
                    "cell_type": "markdown"
                },
                {
                    "language": "python",
                    "metadata": {},
                    "input": [
                        "import matplotlib.ticker as mticker\n",
                        "from cartopy.mpl.gridliner import LATITUDE_FORMATTER\n",
                        "\n",
                        "ax = plt.axes(projection=ccrs.PlateCarree())\n",
                        "ax.coastlines()\n",
                        "gl = ax.gridlines(draw_labels=True)\n",
                        "\n",
                        "gl.xlocator = mticker.FixedLocator([-180, -45, 0, 45, 180])\n",
                        "gl.yformatter = LATITUDE_FORMATTER\n",
                        "\n",
                        "plt.show()"
                    ],
                    "collapsed": false,
                    "outputs": [],
                    "cell_type": "code"
                },
                {
                    "source": [
                        "Cartopy cannot currently label all types of projection, though more work is intended on this functionality in the future."
                    ],
                    "metadata": {},
                    "cell_type": "markdown"
                },
                {
                    "source": [
                        "### Exercise 1\n",
                        "\n",
                        "The following snippet of code produces coordinate arrays and some data in a rotated pole coordinate system. The coordinate system for the `x` and `y` values, which is similar to that found in the some limited area models of Europe, has a projection \"north pole\" at 177.5 longitude and 37.5 latitude."
                    ],
                    "metadata": {},
                    "cell_type": "markdown"
                },
                {
                    "language": "python",
                    "metadata": {},
                    "input": [
                        "import numpy as np\n",
                        "import matplotlib.pyplot as plt\n",
                        "import cartopy.crs as ccrs\n",
                        "\n",
                        "x = np.linspace(310, 390, 25)\n",
                        "y = np.linspace(-24, 25, 35)\n",
                        "x2d, y2d = np.meshgrid(x, y)\n",
                        "\n",
                        "data = np.cos(np.deg2rad(y2d) * 4) + np.sin(np.deg2rad(x2d) * 4)"
                    ],
                    "collapsed": false,
                    "outputs": [],
                    "cell_type": "code"
                },
                {
                    "source": [
                        "**Part 1**\n",
                        "\n",
                        "Define a cartopy coordinate reference system which represents a rotated pole with a pole latitude of 37.5 and a pole longitude of 177.5."
                    ],
                    "metadata": {},
                    "cell_type": "markdown"
                },
                {
                    "language": "python",
                    "metadata": {},
                    "input": [],
                    "collapsed": false,
                    "outputs": [],
                    "cell_type": "code"
                },
                {
                    "source": [
                        "** Part 2**\n",
                        "\n",
                        "Produce a map, with coastlines, using the coordinate reference system created in Part 1."
                    ],
                    "metadata": {},
                    "cell_type": "markdown"
                },
                {
                    "language": "python",
                    "metadata": {},
                    "input": [],
                    "collapsed": false,
                    "outputs": [],
                    "cell_type": "code"
                },
                {
                    "source": [
                        "**Part 3**\n",
                        "\n",
                        "Produce a map, with coastlines, in a Plate Carree projection with a pcolormesh of the data generated by the code snippet provided at the beginning of the exercise. Remember that the data is supplied in the rotated coordinate system defined in Part 1."
                    ],
                    "metadata": {},
                    "cell_type": "markdown"
                },
                {
                    "language": "python",
                    "metadata": {},
                    "input": [],
                    "collapsed": false,
                    "outputs": [],
                    "cell_type": "code"
                }
            ],
            "metadata": {}
        }
    ],
    "metadata": {
        "signature": "sha256:1a8a92b2745d535192028b13e30da3a78c71453f1fd7f57624b34a24fa800bd8",
        "name": ""
    }
}